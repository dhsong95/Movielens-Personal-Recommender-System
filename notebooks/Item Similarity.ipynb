{
 "metadata": {
  "language_info": {
   "codemirror_mode": {
    "name": "ipython",
    "version": 3
   },
   "file_extension": ".py",
   "mimetype": "text/x-python",
   "name": "python",
   "nbconvert_exporter": "python",
   "pygments_lexer": "ipython3",
   "version": "3.7.4-final"
  },
  "orig_nbformat": 2,
  "kernelspec": {
   "name": "python_defaultSpec_1597580065980",
   "display_name": "Python 3.7.4 64-bit ('venv': venv)"
  }
 },
 "nbformat": 4,
 "nbformat_minor": 2,
 "cells": [
  {
   "cell_type": "code",
   "execution_count": 2,
   "metadata": {},
   "outputs": [],
   "source": [
    "from collections import defaultdict\n",
    "import os\n",
    "\n",
    "from scipy import sparse\n",
    "from tqdm import tqdm\n",
    "import numpy as np\n",
    "import pandas as pd\n",
    "\n",
    "\n",
    "def load_ratings(filename):\n",
    "    dirpath = '../data/ml-latest-small'\n",
    "    ratings = pd.read_csv(os.path.join(dirpath, filename))\n",
    "    return ratings\n",
    "\n",
    "\n",
    "def get_user_movie_dictionary(dataframe):\n",
    "    users = dataframe.userId.unique()\n",
    "    movies = dataframe.movieId.unique()\n",
    "\n",
    "    user2idx = {user: idx for idx, user in enumerate(users)}\n",
    "    movie2idx = {movie: idx for idx, movie in enumerate(movies)}\n",
    "\n",
    "    return user2idx, movie2idx\n",
    "\n",
    "\n",
    "def transform_binary_matrix(dataframe, user2idx, movie2idx):\n",
    "    rows = list()\n",
    "    cols = list()\n",
    "    data = list()\n",
    "\n",
    "    stat = defaultdict(int)\n",
    "\n",
    "    for user, movie, rating in zip(\n",
    "            dataframe['userId'], dataframe['movieId'], dataframe['rating']):\n",
    "        user_idx = user2idx[user]\n",
    "        movie_idx = movie2idx[movie]\n",
    "\n",
    "        rows.append(user_idx)\n",
    "        cols.append(movie_idx)\n",
    "        if rating >= 2.0:\n",
    "            data.append(1.0)\n",
    "            stat['pos'] += 1\n",
    "        else:\n",
    "            data.append(-1.0)\n",
    "            stat['neg'] += 1\n",
    "\n",
    "    matrix = sparse.csr_matrix(\n",
    "        (data, (rows, cols)),\n",
    "        shape=(len(user2idx), len(movie2idx))\n",
    "    )\n",
    "    return matrix, stat\n",
    "\n",
    "\n",
    "def split_matrix(original, user2idx, movie2idx):\n",
    "    np.random.seed(2020)\n",
    "\n",
    "    N_user = original.shape[0]\n",
    "    N_movie = original.shape[1]\n",
    "\n",
    "    rows_tr = list()\n",
    "    cols_tr = list()\n",
    "    data_tr = list()\n",
    "\n",
    "    rows_val = list()\n",
    "    cols_val = list()\n",
    "    data_val = list()\n",
    "\n",
    "    for rdx, cdx in tqdm(zip(*original.nonzero())):\n",
    "        rated_movie = len(original[rdx, :].nonzero()[1])\n",
    "        rated_user = len(original[:, cdx].nonzero()[0])\n",
    "\n",
    "        threshold = (rated_movie / N_movie) * (rated_user / N_user) + 0.8\n",
    "        random_number = np.random.rand()\n",
    "        if random_number <= threshold:\n",
    "            rows_tr.append(rdx)\n",
    "            cols_tr.append(cdx)\n",
    "            data_tr.append(original[rdx, cdx])\n",
    "        else:\n",
    "            rows_val.append(rdx)\n",
    "            cols_val.append(cdx)\n",
    "            data_val.append(original[rdx, cdx])\n",
    "\n",
    "    train_matrix = sparse.csr_matrix(\n",
    "        (data_tr, (rows_tr, cols_tr)), shape=(len(user2idx), len(movie2idx))\n",
    "    )\n",
    "    validation_matrix = sparse.csr_matrix(\n",
    "        (data_val, (rows_val, cols_val)), shape=(len(user2idx), len(movie2idx))\n",
    "    )\n",
    "\n",
    "    return train_matrix, validation_matrix"
   ]
  },
  {
   "cell_type": "code",
   "execution_count": 3,
   "metadata": {
    "tags": []
   },
   "outputs": [
    {
     "output_type": "stream",
     "name": "stderr",
     "text": "0it [00:00, ?it/s]# of user: 610\t# of movie: 9724\nPositive Feedback: 94864 \tNegative Feedback: 5972\n100836it [00:51, 1961.18it/s]Train: 81216\t Validation Size: 19620\n\n"
    }
   ],
   "source": [
    "rating_df = load_ratings('ratings.csv')\n",
    "user2idx, movie2idx = get_user_movie_dictionary(rating_df)\n",
    "print(f'# of user: {len(user2idx)}\\t# of movie: {len(movie2idx)}')\n",
    "\n",
    "rating_matrix, stat =\\\n",
    "    transform_binary_matrix(rating_df, user2idx, movie2idx)\n",
    "print(\n",
    "    f'Positive Feedback: {stat[\"pos\"]}',\n",
    "    f'\\tNegative Feedback: {stat[\"neg\"]}'\n",
    ")\n",
    "\n",
    "rating_matrix_train, rating_matrix_val =\\\n",
    "    split_matrix(rating_matrix, user2idx, movie2idx)\n",
    "\n",
    "print(\n",
    "    f'Train: {rating_matrix_train.count_nonzero()}\\t',\n",
    "    f'Validation Size: {rating_matrix_val.count_nonzero()}'\n",
    ")"
   ]
  },
  {
   "cell_type": "code",
   "execution_count": 4,
   "metadata": {},
   "outputs": [
    {
     "output_type": "execute_result",
     "data": {
      "text/plain": "(9724, 100)"
     },
     "metadata": {},
     "execution_count": 4
    }
   ],
   "source": [
    "embedding = np.load('../output/embedding.npz')\n",
    "embedding = embedding['arr_0']\n",
    "embedding.shape"
   ]
  },
  {
   "cell_type": "code",
   "execution_count": 5,
   "metadata": {},
   "outputs": [
    {
     "output_type": "execute_result",
     "data": {
      "text/plain": "      movieId                                      title  \\\n0           1                           Toy Story (1995)   \n1           2                             Jumanji (1995)   \n2           3                    Grumpier Old Men (1995)   \n3           4                   Waiting to Exhale (1995)   \n4           5         Father of the Bride Part II (1995)   \n...       ...                                        ...   \n9737   193581  Black Butler: Book of the Atlantic (2017)   \n9738   193583               No Game No Life: Zero (2017)   \n9739   193585                               Flint (2017)   \n9740   193587        Bungo Stray Dogs: Dead Apple (2018)   \n9741   193609        Andrew Dice Clay: Dice Rules (1991)   \n\n                                           genres  \n0     Adventure|Animation|Children|Comedy|Fantasy  \n1                      Adventure|Children|Fantasy  \n2                                  Comedy|Romance  \n3                            Comedy|Drama|Romance  \n4                                          Comedy  \n...                                           ...  \n9737              Action|Animation|Comedy|Fantasy  \n9738                     Animation|Comedy|Fantasy  \n9739                                        Drama  \n9740                             Action|Animation  \n9741                                       Comedy  \n\n[9742 rows x 3 columns]",
      "text/html": "<div>\n<style scoped>\n    .dataframe tbody tr th:only-of-type {\n        vertical-align: middle;\n    }\n\n    .dataframe tbody tr th {\n        vertical-align: top;\n    }\n\n    .dataframe thead th {\n        text-align: right;\n    }\n</style>\n<table border=\"1\" class=\"dataframe\">\n  <thead>\n    <tr style=\"text-align: right;\">\n      <th></th>\n      <th>movieId</th>\n      <th>title</th>\n      <th>genres</th>\n    </tr>\n  </thead>\n  <tbody>\n    <tr>\n      <th>0</th>\n      <td>1</td>\n      <td>Toy Story (1995)</td>\n      <td>Adventure|Animation|Children|Comedy|Fantasy</td>\n    </tr>\n    <tr>\n      <th>1</th>\n      <td>2</td>\n      <td>Jumanji (1995)</td>\n      <td>Adventure|Children|Fantasy</td>\n    </tr>\n    <tr>\n      <th>2</th>\n      <td>3</td>\n      <td>Grumpier Old Men (1995)</td>\n      <td>Comedy|Romance</td>\n    </tr>\n    <tr>\n      <th>3</th>\n      <td>4</td>\n      <td>Waiting to Exhale (1995)</td>\n      <td>Comedy|Drama|Romance</td>\n    </tr>\n    <tr>\n      <th>4</th>\n      <td>5</td>\n      <td>Father of the Bride Part II (1995)</td>\n      <td>Comedy</td>\n    </tr>\n    <tr>\n      <th>...</th>\n      <td>...</td>\n      <td>...</td>\n      <td>...</td>\n    </tr>\n    <tr>\n      <th>9737</th>\n      <td>193581</td>\n      <td>Black Butler: Book of the Atlantic (2017)</td>\n      <td>Action|Animation|Comedy|Fantasy</td>\n    </tr>\n    <tr>\n      <th>9738</th>\n      <td>193583</td>\n      <td>No Game No Life: Zero (2017)</td>\n      <td>Animation|Comedy|Fantasy</td>\n    </tr>\n    <tr>\n      <th>9739</th>\n      <td>193585</td>\n      <td>Flint (2017)</td>\n      <td>Drama</td>\n    </tr>\n    <tr>\n      <th>9740</th>\n      <td>193587</td>\n      <td>Bungo Stray Dogs: Dead Apple (2018)</td>\n      <td>Action|Animation</td>\n    </tr>\n    <tr>\n      <th>9741</th>\n      <td>193609</td>\n      <td>Andrew Dice Clay: Dice Rules (1991)</td>\n      <td>Comedy</td>\n    </tr>\n  </tbody>\n</table>\n<p>9742 rows × 3 columns</p>\n</div>"
     },
     "metadata": {},
     "execution_count": 5
    }
   ],
   "source": [
    "dirpath = '../data/ml-latest-small'\n",
    "filename = 'movies.csv'\n",
    "movies = pd.read_csv(os.path.join(dirpath, filename))\n",
    "movies"
   ]
  },
  {
   "cell_type": "code",
   "execution_count": 6,
   "metadata": {},
   "outputs": [],
   "source": [
    "from sklearn.metrics.pairwise import cosine_similarity"
   ]
  },
  {
   "cell_type": "code",
   "execution_count": 7,
   "metadata": {},
   "outputs": [],
   "source": [
    "item_similarity = cosine_similarity(embedding)"
   ]
  },
  {
   "cell_type": "code",
   "execution_count": 8,
   "metadata": {},
   "outputs": [],
   "source": [
    "top_similar_items = np.argsort(item_similarity, axis=-1)[:, ::-1][:, :11]"
   ]
  },
  {
   "cell_type": "code",
   "execution_count": 9,
   "metadata": {},
   "outputs": [],
   "source": [
    "idx2movie = {idx: movie for movie, idx in movie2idx.items()}"
   ]
  },
  {
   "cell_type": "code",
   "execution_count": 10,
   "metadata": {},
   "outputs": [
    {
     "output_type": "execute_result",
     "data": {
      "text/plain": "[(0    Toy Story (1995)\n  Name: title, dtype: object,\n  1.0),\n (295    What's Eating Gilbert Grape (1993)\n  Name: title, dtype: object,\n  0.9924701),\n (418    Jurassic Park (1993)\n  Name: title, dtype: object,\n  0.9918151),\n (31    Twelve Monkeys (a.k.a. 12 Monkeys) (1995)\n  Name: title, dtype: object,\n  0.9909825),\n (322    Lion King, The (1994)\n  Name: title, dtype: object,\n  0.9904566),\n (615    Independence Day (a.k.a. ID4) (1996)\n  Name: title, dtype: object,\n  0.990292),\n (577    Truth About Cats & Dogs, The (1996)\n  Name: title, dtype: object,\n  0.9902755),\n (43    Seven (a.k.a. Se7en) (1995)\n  Name: title, dtype: object,\n  0.99021757),\n (592    Rock, The (1996)\n  Name: title, dtype: object,\n  0.99011785),\n (314    Forrest Gump (1994)\n  Name: title, dtype: object,\n  0.9900517),\n (506    Aladdin (1992)\n  Name: title, dtype: object,\n  0.9897231)]"
     },
     "metadata": {},
     "execution_count": 10
    }
   ],
   "source": [
    "[(movies.loc[movies.movieId == idx2movie[idx], 'title'], item_similarity[0, idx]) for idx in top_similar_items[0, :]]"
   ]
  },
  {
   "cell_type": "code",
   "execution_count": 11,
   "metadata": {},
   "outputs": [
    {
     "output_type": "execute_result",
     "data": {
      "text/plain": "[1938, 2134, 1365, 1082]"
     },
     "metadata": {},
     "execution_count": 11
    }
   ],
   "source": [
    "sample_movies = [88125, 122912, 122892, 122922] # Harry Poter, Inifinity War, Age of Ultron, Dr Strange\n",
    "[movie2idx[movie] for movie in sample_movies]"
   ]
  },
  {
   "cell_type": "code",
   "execution_count": 12,
   "metadata": {},
   "outputs": [
    {
     "output_type": "execute_result",
     "data": {
      "text/plain": "(1, 100)"
     },
     "metadata": {},
     "execution_count": 12
    }
   ],
   "source": [
    "movie_vec = embedding[1938] + embedding[2134] - embedding[1365]\n",
    "movie_vec = movie_vec.reshape(1, -1)\n",
    "movie_vec.shape"
   ]
  },
  {
   "cell_type": "code",
   "execution_count": 13,
   "metadata": {},
   "outputs": [
    {
     "output_type": "execute_result",
     "data": {
      "text/plain": "[(7644    Harry Potter and the Deathly Hallows: Part 2 (...\n  Name: title, dtype: object,\n  0.98372984),\n (8693    Avengers: Infinity War - Part I (2018)\n  Name: title, dtype: object,\n  0.97471595),\n (2226    Fight Club (1999)\n  Name: title, dtype: object,\n  0.97328526),\n (705    Citizen Kane (1941)\n  Name: title, dtype: object,\n  0.97305995),\n (684    Breakfast at Tiffany's (1961)\n  Name: title, dtype: object,\n  0.9725243),\n (7955    Skyfall (2012)\n  Name: title, dtype: object,\n  0.97247815),\n (2020    Run Lola Run (Lola rennt) (1998)\n  Name: title, dtype: object,\n  0.9716353),\n (8546    Big Hero 6 (2014)\n  Name: title, dtype: object,\n  0.9715785),\n (929    Raging Bull (1980)\n  Name: title, dtype: object,\n  0.9714977),\n (6772    WALL·E (2008)\n  Name: title, dtype: object,\n  0.9714916),\n (2558    Do the Right Thing (1989)\n  Name: title, dtype: object,\n  0.9714886),\n (907    Clockwork Orange, A (1971)\n  Name: title, dtype: object,\n  0.97141594),\n (918    Ran (1985)\n  Name: title, dtype: object,\n  0.971308),\n (6276    Illusionist, The (2006)\n  Name: title, dtype: object,\n  0.9712107),\n (3984    Spirited Away (Sen to Chihiro no kamikakushi) ...\n  Name: title, dtype: object,\n  0.97118825),\n (388    Farewell My Concubine (Ba wang bie ji) (1993)\n  Name: title, dtype: object,\n  0.97086525),\n (7694    Tinker Tailor Soldier Spy (2011)\n  Name: title, dtype: object,\n  0.97054684),\n (6062    Harry Potter and the Goblet of Fire (2005)\n  Name: title, dtype: object,\n  0.9705157),\n (8695    Guardians of the Galaxy 2 (2017)\n  Name: title, dtype: object,\n  0.9704521),\n (6155    Inside Man (2006)\n  Name: title, dtype: object,\n  0.97042596),\n (1005    When Harry Met Sally... (1989)\n  Name: title, dtype: object,\n  0.97007024),\n (4351    Matrix Reloaded, The (2003)\n  Name: title, dtype: object,\n  0.97005254),\n (4309    Holes (2003)\n  Name: title, dtype: object,\n  0.9699729),\n (3745    Ice Age (2002)\n  Name: title, dtype: object,\n  0.9699694),\n (1547    Muppet Christmas Carol, The (1992)\n  Name: title, dtype: object,\n  0.96992135),\n (4829    Dr. Jekyll and Mr. Hyde (1941)\n  Name: title, dtype: object,\n  0.9698226),\n (5388    Closer (2004)\n  Name: title, dtype: object,\n  0.96979445),\n (4311    Winged Migration (Peuple migrateur, Le) (2001)\n  Name: title, dtype: object,\n  0.9697448),\n (1284    Good Will Hunting (1997)\n  Name: title, dtype: object,\n  0.96971333),\n (7947    Ruby Sparks (2012)\n  Name: title, dtype: object,\n  0.9697075),\n (5699    Jacket, The (2005)\n  Name: title, dtype: object,\n  0.9696925),\n (8683    Star Wars: Episode VII - The Force Awakens (2015)\n  Name: title, dtype: object,\n  0.9696893),\n (1178    My Best Friend's Wedding (1997)\n  Name: title, dtype: object,\n  0.9695691),\n (7302    How to Train Your Dragon (2010)\n  Name: title, dtype: object,\n  0.96953243),\n (7413    Social Network, The (2010)\n  Name: title, dtype: object,\n  0.96948147),\n (3622    Amelie (Fabuleux destin d'Amélie Poulain, Le) ...\n  Name: title, dtype: object,\n  0.9694496),\n (6242    Little Miss Sunshine (2006)\n  Name: title, dtype: object,\n  0.9694383),\n (6330    Children of Men (2006)\n  Name: title, dtype: object,\n  0.96943045),\n (6797    Watchmen (2009)\n  Name: title, dtype: object,\n  0.969424),\n (7515    Limitless (2011)\n  Name: title, dtype: object,\n  0.9693209),\n (7078    Harry Potter and the Half-Blood Prince (2009)\n  Name: title, dtype: object,\n  0.9692478),\n (7131    Final Destination, The (Final Destination 4) (...\n  Name: title, dtype: object,\n  0.96922123),\n (6522    Harry Potter and the Order of the Phoenix (2007)\n  Name: title, dtype: object,\n  0.96916455),\n (4890    Hidalgo (2004)\n  Name: title, dtype: object,\n  0.9690973),\n (4245    Old School (2003)\n  Name: title, dtype: object,\n  0.9690894),\n (4800    Lord of the Rings: The Return of the King, The...\n  Name: title, dtype: object,\n  0.9690853),\n (6151    V for Vendetta (2006)\n  Name: title, dtype: object,\n  0.9690634),\n (2094    Monty Python's And Now for Something Completel...\n  Name: title, dtype: object,\n  0.96905446),\n (5337    Murder on the Orient Express (1974)\n  Name: title, dtype: object,\n  0.96901405),\n (6505    Fantastic Four: Rise of the Silver Surfer (2007)\n  Name: title, dtype: object,\n  0.9690087)]"
     },
     "metadata": {},
     "execution_count": 13
    }
   ],
   "source": [
    "movie_similariry = cosine_similarity(movie_vec, embedding)\n",
    "similar_movies = np.argsort(movie_similariry[0, :], axis=-1)[::-1]\n",
    "[(movies.loc[movies.movieId == idx2movie[idx], 'title'], movie_similariry[0, idx]) for idx in similar_movies[:50]]"
   ]
  },
  {
   "cell_type": "code",
   "execution_count": 14,
   "metadata": {},
   "outputs": [
    {
     "output_type": "execute_result",
     "data": {
      "text/plain": "0.9622914"
     },
     "metadata": {},
     "execution_count": 14
    }
   ],
   "source": [
    "# Dr. Strange\n",
    "movie_similariry[0, 1082]"
   ]
  },
  {
   "cell_type": "code",
   "execution_count": 17,
   "metadata": {},
   "outputs": [
    {
     "output_type": "execute_result",
     "data": {
      "text/plain": "672"
     },
     "metadata": {},
     "execution_count": 17
    }
   ],
   "source": [
    "# Dr. Strange\n",
    "similar_movies.tolist().index(1082)"
   ]
  },
  {
   "cell_type": "code",
   "execution_count": null,
   "metadata": {},
   "outputs": [],
   "source": []
  }
 ]
}
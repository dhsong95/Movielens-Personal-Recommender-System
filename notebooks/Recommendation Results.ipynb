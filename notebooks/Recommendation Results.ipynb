{
 "metadata": {
  "language_info": {
   "codemirror_mode": {
    "name": "ipython",
    "version": 3
   },
   "file_extension": ".py",
   "mimetype": "text/x-python",
   "name": "python",
   "nbconvert_exporter": "python",
   "pygments_lexer": "ipython3",
   "version": "3.7.4-final"
  },
  "orig_nbformat": 2,
  "kernelspec": {
   "name": "python_defaultSpec_1597571115266",
   "display_name": "Python 3.7.4 64-bit ('venv': venv)"
  }
 },
 "nbformat": 4,
 "nbformat_minor": 2,
 "cells": [
  {
   "cell_type": "code",
   "execution_count": 29,
   "metadata": {},
   "outputs": [],
   "source": [
    "from collections import defaultdict\n",
    "import os\n",
    "\n",
    "from scipy import sparse\n",
    "from tqdm import tqdm\n",
    "import numpy as np\n",
    "import pandas as pd\n",
    "\n",
    "\n",
    "def load_ratings(filename):\n",
    "    dirpath = '../data/ml-latest-small'\n",
    "    ratings = pd.read_csv(os.path.join(dirpath, filename))\n",
    "    return ratings\n",
    "\n",
    "\n",
    "def get_user_movie_dictionary(dataframe):\n",
    "    users = dataframe.userId.unique()\n",
    "    movies = dataframe.movieId.unique()\n",
    "\n",
    "    user2idx = {user: idx for idx, user in enumerate(users)}\n",
    "    movie2idx = {movie: idx for idx, movie in enumerate(movies)}\n",
    "\n",
    "    return user2idx, movie2idx\n",
    "\n",
    "\n",
    "def transform_binary_matrix(dataframe, user2idx, movie2idx):\n",
    "    rows = list()\n",
    "    cols = list()\n",
    "    data = list()\n",
    "\n",
    "    stat = defaultdict(int)\n",
    "\n",
    "    for user, movie, rating in zip(\n",
    "            dataframe['userId'], dataframe['movieId'], dataframe['rating']):\n",
    "        user_idx = user2idx[user]\n",
    "        movie_idx = movie2idx[movie]\n",
    "\n",
    "        rows.append(user_idx)\n",
    "        cols.append(movie_idx)\n",
    "        if rating >= 2.0:\n",
    "            data.append(1.0)\n",
    "            stat['pos'] += 1\n",
    "        else:\n",
    "            data.append(-1.0)\n",
    "            stat['neg'] += 1\n",
    "\n",
    "    matrix = sparse.csr_matrix(\n",
    "        (data, (rows, cols)),\n",
    "        shape=(len(user2idx), len(movie2idx))\n",
    "    )\n",
    "    return matrix, stat\n",
    "\n",
    "\n",
    "def split_matrix(original, user2idx, movie2idx):\n",
    "    np.random.seed(2020)\n",
    "\n",
    "    N_user = original.shape[0]\n",
    "    N_movie = original.shape[1]\n",
    "\n",
    "    rows_tr = list()\n",
    "    cols_tr = list()\n",
    "    data_tr = list()\n",
    "\n",
    "    rows_val = list()\n",
    "    cols_val = list()\n",
    "    data_val = list()\n",
    "\n",
    "    for rdx, cdx in tqdm(zip(*original.nonzero())):\n",
    "        rated_movie = len(original[rdx, :].nonzero()[1])\n",
    "        rated_user = len(original[:, cdx].nonzero()[0])\n",
    "\n",
    "        threshold = (rated_movie / N_movie) * (rated_user / N_user) + 0.8\n",
    "        random_number = np.random.rand()\n",
    "        if random_number <= threshold:\n",
    "            rows_tr.append(rdx)\n",
    "            cols_tr.append(cdx)\n",
    "            data_tr.append(original[rdx, cdx])\n",
    "        else:\n",
    "            rows_val.append(rdx)\n",
    "            cols_val.append(cdx)\n",
    "            data_val.append(original[rdx, cdx])\n",
    "\n",
    "    train_matrix = sparse.csr_matrix(\n",
    "        (data_tr, (rows_tr, cols_tr)), shape=(len(user2idx), len(movie2idx))\n",
    "    )\n",
    "    validation_matrix = sparse.csr_matrix(\n",
    "        (data_val, (rows_val, cols_val)), shape=(len(user2idx), len(movie2idx))\n",
    "    )\n",
    "\n",
    "    return train_matrix, validation_matrix"
   ]
  },
  {
   "cell_type": "code",
   "execution_count": 30,
   "metadata": {
    "tags": []
   },
   "outputs": [
    {
     "output_type": "stream",
     "name": "stderr",
     "text": "0it [00:00, ?it/s]# of user: 610\t# of movie: 9724\nPositive Feedback: 94864 \tNegative Feedback: 5972\n100836it [00:52, 1904.60it/s]Train: 81216\t Validation Size: 19620\n\n"
    }
   ],
   "source": [
    "rating_df = load_ratings('ratings.csv')\n",
    "user2idx, movie2idx = get_user_movie_dictionary(rating_df)\n",
    "print(f'# of user: {len(user2idx)}\\t# of movie: {len(movie2idx)}')\n",
    "\n",
    "rating_matrix, stat =\\\n",
    "    transform_binary_matrix(rating_df, user2idx, movie2idx)\n",
    "print(\n",
    "    f'Positive Feedback: {stat[\"pos\"]}',\n",
    "    f'\\tNegative Feedback: {stat[\"neg\"]}'\n",
    ")\n",
    "\n",
    "rating_matrix_train, rating_matrix_val =\\\n",
    "    split_matrix(rating_matrix, user2idx, movie2idx)\n",
    "\n",
    "print(\n",
    "    f'Train: {rating_matrix_train.count_nonzero()}\\t',\n",
    "    f'Validation Size: {rating_matrix_val.count_nonzero()}'\n",
    ")"
   ]
  },
  {
   "cell_type": "code",
   "execution_count": 31,
   "metadata": {},
   "outputs": [],
   "source": [
    "recommendations_mf = np.load('../output/rec_mf.npz')\n",
    "recommendations_auto = np.load('../output/rec_auto.npz')"
   ]
  },
  {
   "cell_type": "code",
   "execution_count": 32,
   "metadata": {},
   "outputs": [],
   "source": [
    "recommendations_mf = recommendations_mf['arr_0']\n",
    "recommendations_auto = recommendations_auto['arr_0']"
   ]
  },
  {
   "cell_type": "code",
   "execution_count": 33,
   "metadata": {},
   "outputs": [
    {
     "output_type": "execute_result",
     "data": {
      "text/plain": "(610, 100)"
     },
     "metadata": {},
     "execution_count": 33
    }
   ],
   "source": [
    "recommendations_mf.shape"
   ]
  },
  {
   "cell_type": "code",
   "execution_count": 34,
   "metadata": {},
   "outputs": [
    {
     "output_type": "execute_result",
     "data": {
      "text/plain": "(610, 100)"
     },
     "metadata": {},
     "execution_count": 34
    }
   ],
   "source": [
    "recommendations_auto.shape"
   ]
  },
  {
   "cell_type": "code",
   "execution_count": 35,
   "metadata": {},
   "outputs": [
    {
     "output_type": "execute_result",
     "data": {
      "text/plain": "      movieId                                      title  \\\n0           1                           Toy Story (1995)   \n1           2                             Jumanji (1995)   \n2           3                    Grumpier Old Men (1995)   \n3           4                   Waiting to Exhale (1995)   \n4           5         Father of the Bride Part II (1995)   \n...       ...                                        ...   \n9737   193581  Black Butler: Book of the Atlantic (2017)   \n9738   193583               No Game No Life: Zero (2017)   \n9739   193585                               Flint (2017)   \n9740   193587        Bungo Stray Dogs: Dead Apple (2018)   \n9741   193609        Andrew Dice Clay: Dice Rules (1991)   \n\n                                           genres  \n0     Adventure|Animation|Children|Comedy|Fantasy  \n1                      Adventure|Children|Fantasy  \n2                                  Comedy|Romance  \n3                            Comedy|Drama|Romance  \n4                                          Comedy  \n...                                           ...  \n9737              Action|Animation|Comedy|Fantasy  \n9738                     Animation|Comedy|Fantasy  \n9739                                        Drama  \n9740                             Action|Animation  \n9741                                       Comedy  \n\n[9742 rows x 3 columns]",
      "text/html": "<div>\n<style scoped>\n    .dataframe tbody tr th:only-of-type {\n        vertical-align: middle;\n    }\n\n    .dataframe tbody tr th {\n        vertical-align: top;\n    }\n\n    .dataframe thead th {\n        text-align: right;\n    }\n</style>\n<table border=\"1\" class=\"dataframe\">\n  <thead>\n    <tr style=\"text-align: right;\">\n      <th></th>\n      <th>movieId</th>\n      <th>title</th>\n      <th>genres</th>\n    </tr>\n  </thead>\n  <tbody>\n    <tr>\n      <th>0</th>\n      <td>1</td>\n      <td>Toy Story (1995)</td>\n      <td>Adventure|Animation|Children|Comedy|Fantasy</td>\n    </tr>\n    <tr>\n      <th>1</th>\n      <td>2</td>\n      <td>Jumanji (1995)</td>\n      <td>Adventure|Children|Fantasy</td>\n    </tr>\n    <tr>\n      <th>2</th>\n      <td>3</td>\n      <td>Grumpier Old Men (1995)</td>\n      <td>Comedy|Romance</td>\n    </tr>\n    <tr>\n      <th>3</th>\n      <td>4</td>\n      <td>Waiting to Exhale (1995)</td>\n      <td>Comedy|Drama|Romance</td>\n    </tr>\n    <tr>\n      <th>4</th>\n      <td>5</td>\n      <td>Father of the Bride Part II (1995)</td>\n      <td>Comedy</td>\n    </tr>\n    <tr>\n      <th>...</th>\n      <td>...</td>\n      <td>...</td>\n      <td>...</td>\n    </tr>\n    <tr>\n      <th>9737</th>\n      <td>193581</td>\n      <td>Black Butler: Book of the Atlantic (2017)</td>\n      <td>Action|Animation|Comedy|Fantasy</td>\n    </tr>\n    <tr>\n      <th>9738</th>\n      <td>193583</td>\n      <td>No Game No Life: Zero (2017)</td>\n      <td>Animation|Comedy|Fantasy</td>\n    </tr>\n    <tr>\n      <th>9739</th>\n      <td>193585</td>\n      <td>Flint (2017)</td>\n      <td>Drama</td>\n    </tr>\n    <tr>\n      <th>9740</th>\n      <td>193587</td>\n      <td>Bungo Stray Dogs: Dead Apple (2018)</td>\n      <td>Action|Animation</td>\n    </tr>\n    <tr>\n      <th>9741</th>\n      <td>193609</td>\n      <td>Andrew Dice Clay: Dice Rules (1991)</td>\n      <td>Comedy</td>\n    </tr>\n  </tbody>\n</table>\n<p>9742 rows × 3 columns</p>\n</div>"
     },
     "metadata": {},
     "execution_count": 35
    }
   ],
   "source": [
    "dirpath = '../data/ml-latest-small'\n",
    "filename = 'movies.csv'\n",
    "movies = pd.read_csv(os.path.join(dirpath, filename))\n",
    "movies"
   ]
  },
  {
   "cell_type": "code",
   "execution_count": 44,
   "metadata": {},
   "outputs": [
    {
     "output_type": "execute_result",
     "data": {
      "text/plain": "[291    Tommy Boy (1995)\n Name: title, dtype: object,\n 6710    Dark Knight, The (2008)\n Name: title, dtype: object,\n 6801    Step Brothers (2008)\n Name: title, dtype: object,\n 7323    Exit Through the Gift Shop (2010)\n Name: title, dtype: object,\n 7372    Inception (2010)\n Name: title, dtype: object,\n 8550    Ex Machina (2015)\n Name: title, dtype: object]"
     },
     "metadata": {},
     "execution_count": 44
    }
   ],
   "source": [
    "[movies.loc[movies.movieId == idx2movie[idx], 'title'] for idx in rating_matrix_val[1, :].nonzero()[1] if rating_matrix_val[1, idx] == 1]"
   ]
  },
  {
   "cell_type": "code",
   "execution_count": 45,
   "metadata": {},
   "outputs": [
    {
     "output_type": "execute_result",
     "data": {
      "text/plain": "[7372    Inception (2010)\n Name: title, dtype: object,\n 2226    Fight Club (1999)\n Name: title, dtype: object,\n 257    Pulp Fiction (1994)\n Name: title, dtype: object,\n 6710    Dark Knight, The (2008)\n Name: title, dtype: object,\n 510    Silence of the Lambs, The (1991)\n Name: title, dtype: object,\n 314    Forrest Gump (1994)\n Name: title, dtype: object,\n 46    Usual Suspects, The (1995)\n Name: title, dtype: object,\n 4800    Lord of the Rings: The Return of the King, The...\n Name: title, dtype: object,\n 1939    Matrix, The (1999)\n Name: title, dtype: object,\n 4137    Lord of the Rings: The Two Towers, The (2002)\n Name: title, dtype: object]"
     },
     "metadata": {},
     "execution_count": 45
    }
   ],
   "source": [
    "[movies.loc[movies.movieId == idx2movie[idx], 'title'] for idx in recommendations_mf[1, :10]]"
   ]
  },
  {
   "cell_type": "code",
   "execution_count": 46,
   "metadata": {},
   "outputs": [
    {
     "output_type": "execute_result",
     "data": {
      "text/plain": "[7802    Intouchables (2011)\n Name: title, dtype: object,\n 6258    Pursuit of Happyness, The (2006)\n Name: title, dtype: object,\n 6743    Iron Man (2008)\n Name: title, dtype: object,\n 6710    Dark Knight, The (2008)\n Name: title, dtype: object,\n 7466    King's Speech, The (2010)\n Name: title, dtype: object,\n 2907    Almost Famous (2000)\n Name: title, dtype: object,\n 4427    Pirates of the Caribbean: The Curse of the Bla...\n Name: title, dtype: object,\n 8569    The Imitation Game (2014)\n Name: title, dtype: object,\n 6405    Ratatouille (2007)\n Name: title, dtype: object,\n 7039    Up (2009)\n Name: title, dtype: object]"
     },
     "metadata": {},
     "execution_count": 46
    }
   ],
   "source": [
    "[movies.loc[movies.movieId == idx2movie[idx], 'title'] for idx in recommendations_auto[1, :10]]"
   ]
  },
  {
   "cell_type": "code",
   "execution_count": null,
   "metadata": {},
   "outputs": [],
   "source": []
  }
 ]
}
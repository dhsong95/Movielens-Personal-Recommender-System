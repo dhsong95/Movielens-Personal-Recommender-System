{
 "metadata": {
  "language_info": {
   "codemirror_mode": {
    "name": "ipython",
    "version": 3
   },
   "file_extension": ".py",
   "mimetype": "text/x-python",
   "name": "python",
   "nbconvert_exporter": "python",
   "pygments_lexer": "ipython3",
   "version": "3.7.4-final"
  },
  "orig_nbformat": 2,
  "kernelspec": {
   "name": "python_defaultSpec_1597465849690",
   "display_name": "Python 3.7.4 64-bit ('venv': venv)"
  }
 },
 "nbformat": 4,
 "nbformat_minor": 2,
 "cells": [
  {
   "cell_type": "code",
   "execution_count": 3,
   "metadata": {},
   "outputs": [],
   "source": [
    "import os\n",
    "\n",
    "import pandas as pd"
   ]
  },
  {
   "cell_type": "code",
   "execution_count": 4,
   "metadata": {},
   "outputs": [
    {
     "output_type": "execute_result",
     "data": {
      "text/plain": "   userId  movieId  rating  timestamp\n0       1        1     4.0  964982703\n1       1        3     4.0  964981247\n2       1        6     4.0  964982224\n3       1       47     5.0  964983815\n4       1       50     5.0  964982931",
      "text/html": "<div>\n<style scoped>\n    .dataframe tbody tr th:only-of-type {\n        vertical-align: middle;\n    }\n\n    .dataframe tbody tr th {\n        vertical-align: top;\n    }\n\n    .dataframe thead th {\n        text-align: right;\n    }\n</style>\n<table border=\"1\" class=\"dataframe\">\n  <thead>\n    <tr style=\"text-align: right;\">\n      <th></th>\n      <th>userId</th>\n      <th>movieId</th>\n      <th>rating</th>\n      <th>timestamp</th>\n    </tr>\n  </thead>\n  <tbody>\n    <tr>\n      <th>0</th>\n      <td>1</td>\n      <td>1</td>\n      <td>4.0</td>\n      <td>964982703</td>\n    </tr>\n    <tr>\n      <th>1</th>\n      <td>1</td>\n      <td>3</td>\n      <td>4.0</td>\n      <td>964981247</td>\n    </tr>\n    <tr>\n      <th>2</th>\n      <td>1</td>\n      <td>6</td>\n      <td>4.0</td>\n      <td>964982224</td>\n    </tr>\n    <tr>\n      <th>3</th>\n      <td>1</td>\n      <td>47</td>\n      <td>5.0</td>\n      <td>964983815</td>\n    </tr>\n    <tr>\n      <th>4</th>\n      <td>1</td>\n      <td>50</td>\n      <td>5.0</td>\n      <td>964982931</td>\n    </tr>\n  </tbody>\n</table>\n</div>"
     },
     "metadata": {},
     "execution_count": 4
    }
   ],
   "source": [
    "dirpath = '../data/ml-latest-small'\n",
    "ratings_csv = pd.read_csv(os.path.join(dirpath, 'ratings.csv'))\n",
    "ratings_csv.head()"
   ]
  },
  {
   "cell_type": "code",
   "execution_count": 5,
   "metadata": {},
   "outputs": [],
   "source": [
    "from scipy import sparse"
   ]
  },
  {
   "cell_type": "code",
   "execution_count": 6,
   "metadata": {
    "tags": []
   },
   "outputs": [
    {
     "output_type": "stream",
     "name": "stdout",
     "text": "# of user: 610\t# of movie: 9724\n"
    }
   ],
   "source": [
    "users = ratings_csv.userId.unique()\n",
    "movies = ratings_csv.movieId.unique()\n",
    "\n",
    "print(f'# of user: {len(users)}\\t# of movie: {len(movies)}')"
   ]
  },
  {
   "cell_type": "code",
   "execution_count": 7,
   "metadata": {
    "tags": []
   },
   "outputs": [
    {
     "output_type": "stream",
     "name": "stdout",
     "text": "# of user: 610\t# of movie: 9724\n"
    }
   ],
   "source": [
    "user2idx = {user: idx for idx, user in enumerate(users)}\n",
    "movie2idx = {movie: idx for idx, movie in enumerate(movies)}\n",
    "\n",
    "print(f'# of user: {len(user2idx)}\\t# of movie: {len(movie2idx)}')"
   ]
  },
  {
   "cell_type": "code",
   "execution_count": 8,
   "metadata": {
    "tags": []
   },
   "outputs": [
    {
     "output_type": "execute_result",
     "data": {
      "text/plain": "<610x9724 sparse matrix of type '<class 'numpy.float64'>'\n\twith 100836 stored elements in Compressed Sparse Row format>"
     },
     "metadata": {},
     "execution_count": 8
    }
   ],
   "source": [
    "rows = list()\n",
    "cols = list()\n",
    "data = list()\n",
    "for user, movie, rating in zip(ratings_csv['userId'], ratings_csv['movieId'], ratings_csv['rating']):\n",
    "    user_idx = user2idx[user]\n",
    "    movie_idx = movie2idx[movie]\n",
    "    \n",
    "    rows.append(user_idx)\n",
    "    cols.append(movie_idx)\n",
    "    if rating >= 3.0:\n",
    "        data.append(1.0)\n",
    "    else:\n",
    "        data.append(-1.0)\n",
    "\n",
    "rating_matrix = sparse.csr_matrix((data, (rows, cols)), shape=(len(user2idx), len(movie2idx)))\n",
    "rating_matrix"
   ]
  },
  {
   "cell_type": "code",
   "execution_count": 9,
   "metadata": {
    "tags": []
   },
   "outputs": [
    {
     "output_type": "stream",
     "name": "stdout",
     "text": "Positive Feedback: 81763\tNegative Feedback: 19073\n"
    }
   ],
   "source": [
    "from collections import defaultdict\n",
    "\n",
    "feedback = defaultdict(int)\n",
    "for rdx, cdx in zip(rating_matrix.nonzero()[0], rating_matrix.nonzero()[1]):\n",
    "    if rating_matrix[rdx, cdx] == 1.0:\n",
    "        feedback['positive'] += 1\n",
    "    elif rating_matrix[rdx, cdx] == -1.0:\n",
    "        feedback['negative'] += 1\n",
    "\n",
    "print(f'Positive Feedback: {feedback[\"positive\"]}\\tNegative Feedback: {feedback[\"negative\"]}')"
   ]
  },
  {
   "cell_type": "code",
   "execution_count": 10,
   "metadata": {
    "tags": []
   },
   "outputs": [
    {
     "output_type": "stream",
     "name": "stderr",
     "text": "100836it [00:53, 1898.68it/s]\n"
    }
   ],
   "source": [
    "from tqdm import tqdm\n",
    "import numpy as np\n",
    "\n",
    "N_user = rating_matrix.shape[0]\n",
    "N_movie = rating_matrix.shape[1]\n",
    "\n",
    "np.random.seed(2020)\n",
    "\n",
    "rows_tr = list()\n",
    "cols_tr = list()\n",
    "data_tr = list()\n",
    "\n",
    "rows_val = list()\n",
    "cols_val = list()\n",
    "data_val = list()\n",
    "\n",
    "for rdx, cdx in tqdm(zip(rating_matrix.nonzero()[0], rating_matrix.nonzero()[1])):\n",
    "    rated_movie = len(rating_matrix[rdx, :].nonzero()[1])\n",
    "    rated_user = len(rating_matrix[:, cdx].nonzero()[0])\n",
    "\n",
    "    threshold = (rated_movie / N_movie) * (rated_user / N_user) + 0.8\n",
    "    random_number = np.random.rand()\n",
    "    if random_number <= threshold:\n",
    "        rows_tr.append(rdx)\n",
    "        cols_tr.append(cdx)\n",
    "        data_tr.append(rating_matrix[rdx, cdx])\n",
    "    else:\n",
    "        rows_val.append(rdx)\n",
    "        cols_val.append(cdx)\n",
    "        data_val.append(rating_matrix[rdx, cdx])\n",
    "\n",
    "rating_matrix_tr = sparse.csr_matrix((data_tr, (rows_tr, cols_tr)), shape=(len(user2idx), len(movie2idx)))\n",
    "rating_matrix_val = sparse.csr_matrix((data_val, (rows_val, cols_val)), shape=(len(user2idx), len(movie2idx)))\n"
   ]
  },
  {
   "cell_type": "code",
   "execution_count": 11,
   "metadata": {},
   "outputs": [
    {
     "output_type": "execute_result",
     "data": {
      "text/plain": "<610x9724 sparse matrix of type '<class 'numpy.float64'>'\n\twith 81216 stored elements in Compressed Sparse Row format>"
     },
     "metadata": {},
     "execution_count": 11
    }
   ],
   "source": [
    "rating_matrix_tr"
   ]
  },
  {
   "cell_type": "code",
   "execution_count": 12,
   "metadata": {},
   "outputs": [
    {
     "output_type": "execute_result",
     "data": {
      "text/plain": "<610x9724 sparse matrix of type '<class 'numpy.float64'>'\n\twith 19620 stored elements in Compressed Sparse Row format>"
     },
     "metadata": {},
     "execution_count": 12
    }
   ],
   "source": [
    "rating_matrix_val"
   ]
  },
  {
   "cell_type": "code",
   "execution_count": 13,
   "metadata": {
    "tags": []
   },
   "outputs": [],
   "source": [
    "# from itertools import product\n",
    "\n",
    "# for rdx, cdx in zip(*rating_matrix_tr.nonzero()):\n",
    "#     print(f'({rdx}, {cdx})\\t{rating_matrix_tr[rdx, cdx]}')"
   ]
  },
  {
   "cell_type": "code",
   "execution_count": 14,
   "metadata": {
    "tags": []
   },
   "outputs": [
    {
     "output_type": "stream",
     "name": "stderr",
     "text": "WARNING:root:OpenBLAS detected. Its highly recommend to set the environment variable 'export OPENBLAS_NUM_THREADS=1' to disable its internal multithreading\n100%|██████████| 50/50 [00:06<00:00,  7.23it/s, loss=0.0093]\n"
    }
   ],
   "source": [
    "from implicit.als import AlternatingLeastSquares\n",
    "\n",
    "model = AlternatingLeastSquares(factors=20, calculate_training_loss=True, iterations=50, num_threads=4)\n",
    "model.fit(rating_matrix_tr.T)"
   ]
  },
  {
   "cell_type": "code",
   "execution_count": 15,
   "metadata": {},
   "outputs": [
    {
     "output_type": "execute_result",
     "data": {
      "text/plain": "[(478, 0.66567826),\n (1134, 0.5918534),\n (69, 0.58202124),\n (401, 0.57713497),\n (1028, 0.56855),\n (101, 0.5352546),\n (1030, 0.5342044),\n (1179, 0.5205779),\n (34, 0.51859057),\n (292, 0.5121572)]"
     },
     "metadata": {},
     "execution_count": 15
    }
   ],
   "source": [
    "model.recommend(0, rating_matrix_tr, 10)"
   ]
  },
  {
   "cell_type": "code",
   "execution_count": 16,
   "metadata": {
    "tags": []
   },
   "outputs": [
    {
     "output_type": "stream",
     "name": "stdout",
     "text": "19\n"
    }
   ],
   "source": [
    "counter = 0\n",
    "for cdx, _ in model.recommend(0, rating_matrix_tr, 100):\n",
    "    counter += int(rating_matrix_val[0, cdx] == 1)\n",
    "print(counter)"
   ]
  },
  {
   "cell_type": "code",
   "execution_count": 17,
   "metadata": {},
   "outputs": [],
   "source": [
    "from tensorflow import keras\n",
    "import tensorflow as tf"
   ]
  },
  {
   "cell_type": "code",
   "execution_count": 18,
   "metadata": {},
   "outputs": [
    {
     "output_type": "execute_result",
     "data": {
      "text/plain": "(610, 9724)"
     },
     "metadata": {},
     "execution_count": 18
    }
   ],
   "source": [
    "X = rating_matrix_tr.toarray()\n",
    "X.shape"
   ]
  },
  {
   "cell_type": "code",
   "execution_count": 54,
   "metadata": {},
   "outputs": [],
   "source": [
    "from tensorflow.keras.layers import BatchNormalization, Dense, LeakyReLU\n",
    "import tensorflow.keras.backend as K\n",
    "\n",
    "\n",
    "class AutoEncoder:\n",
    "    def __init__(self, input_dim=9724, encoding_dim=20):\n",
    "        self.autoencoder = self.build_autoencoder(input_dim, encoding_dim)\n",
    "\n",
    "    def build_autoencoder(self, input_dim, encoding_dim):\n",
    "        model = keras.models.Sequential()\n",
    "\n",
    "        model.add(Dense(256, input_dim=input_dim))\n",
    "        model.add(BatchNormalization())\n",
    "        model.add(LeakyReLU())\n",
    "        model.add(Dense(128))\n",
    "        model.add(BatchNormalization())\n",
    "        model.add(LeakyReLU())\n",
    "        model.add(Dense(encoding_dim, activation='relu'))\n",
    "        model.add(Dense(128, activation='relu'))\n",
    "        model.add(BatchNormalization())\n",
    "        model.add(LeakyReLU())\n",
    "        model.add(Dense(256, activation='relu'))\n",
    "        model.add(BatchNormalization())\n",
    "        model.add(LeakyReLU())\n",
    "        model.add(Dense(input_dim, activation='tanh'))\n",
    "\n",
    "        model.summary()\n",
    "\n",
    "        rating = keras.Input(shape=(input_dim))\n",
    "        rating_hat = model(rating)\n",
    "\n",
    "        return keras.Model(rating, rating_hat)\n",
    "  \n",
    "    def loss_function(self, y_true, y_pred):\n",
    "        N = K.sum(tf.cast((y_true == 1.0) | (y_pred == -1.0), tf.float32))\n",
    "\n",
    "        mask = y_pred != 0\n",
    "        mask = tf.cast(mask, tf.float32)\n",
    "        y_pred = (y_pred + 1) / 2\n",
    "        y_true = (y_true + 1) / 2\n",
    "\n",
    "        total_cost = mask * (-y_true * K.log(y_pred) - (1 - y_true) * K.log(1 - y_pred))\n",
    "        total_cost = K.sum(total_cost)\n",
    "\n",
    "        return total_cost / N\n",
    "\n",
    "    def train(self, rating, epochs=50, batch_size=100):\n",
    "        optimizer = keras.optimizers.Adam(lr=0.00001)\n",
    "        self.autoencoder.compile(optimizer='adam', loss=self.loss_function)\n",
    "        self.autoencoder.fit(rating, rating, epochs=epochs, batch_size=batch_size, shuffle=True)"
   ]
  },
  {
   "cell_type": "code",
   "execution_count": 55,
   "metadata": {
    "tags": []
   },
   "outputs": [
    {
     "output_type": "stream",
     "name": "stdout",
     "text": "Model: \"sequential_17\"\n_________________________________________________________________\nLayer (type)                 Output Shape              Param #   \n=================================================================\ndense_154 (Dense)            (None, 256)               2489600   \n_________________________________________________________________\nbatch_normalization_4 (Batch (None, 256)               1024      \n_________________________________________________________________\nleaky_re_lu_4 (LeakyReLU)    (None, 256)               0         \n_________________________________________________________________\ndense_155 (Dense)            (None, 128)               32896     \n_________________________________________________________________\nbatch_normalization_5 (Batch (None, 128)               512       \n_________________________________________________________________\nleaky_re_lu_5 (LeakyReLU)    (None, 128)               0         \n_________________________________________________________________\ndense_156 (Dense)            (None, 20)                2580      \n_________________________________________________________________\ndense_157 (Dense)            (None, 128)               2688      \n_________________________________________________________________\nbatch_normalization_6 (Batch (None, 128)               512       \n_________________________________________________________________\nleaky_re_lu_6 (LeakyReLU)    (None, 128)               0         \n_________________________________________________________________\ndense_158 (Dense)            (None, 256)               33024     \n_________________________________________________________________\nbatch_normalization_7 (Batch (None, 256)               1024      \n_________________________________________________________________\nleaky_re_lu_7 (LeakyReLU)    (None, 256)               0         \n_________________________________________________________________\ndense_159 (Dense)            (None, 9724)              2499068   \n=================================================================\nTotal params: 5,062,928\nTrainable params: 5,061,392\nNon-trainable params: 1,536\n_________________________________________________________________\nEpoch 1/50\n7/7 [==============================] - 0s 33ms/step - loss: 64.6656\nEpoch 2/50\n7/7 [==============================] - 0s 38ms/step - loss: 64.8784\nEpoch 3/50\n7/7 [==============================] - 0s 37ms/step - loss: 63.4709\nEpoch 4/50\n7/7 [==============================] - 0s 39ms/step - loss: 64.2597\nEpoch 5/50\n7/7 [==============================] - 0s 31ms/step - loss: 63.8951\nEpoch 6/50\n7/7 [==============================] - 0s 34ms/step - loss: 62.9637\nEpoch 7/50\n7/7 [==============================] - 0s 33ms/step - loss: 62.8872\nEpoch 8/50\n7/7 [==============================] - 0s 32ms/step - loss: 62.7704\nEpoch 9/50\n7/7 [==============================] - 0s 29ms/step - loss: 63.5976\nEpoch 10/50\n7/7 [==============================] - 0s 31ms/step - loss: 64.0641\nEpoch 11/50\n7/7 [==============================] - 0s 34ms/step - loss: 63.8740\nEpoch 12/50\n7/7 [==============================] - 0s 33ms/step - loss: 63.3751\nEpoch 13/50\n7/7 [==============================] - 0s 33ms/step - loss: 63.8084\nEpoch 14/50\n7/7 [==============================] - 0s 37ms/step - loss: 65.1281\nEpoch 15/50\n7/7 [==============================] - 0s 30ms/step - loss: 63.3395\nEpoch 16/50\n7/7 [==============================] - 0s 31ms/step - loss: 63.5366\nEpoch 17/50\n7/7 [==============================] - 0s 30ms/step - loss: 64.6015\nEpoch 18/50\n7/7 [==============================] - 0s 33ms/step - loss: 64.5930\nEpoch 19/50\n7/7 [==============================] - 0s 36ms/step - loss: 64.9148\nEpoch 20/50\n7/7 [==============================] - 0s 31ms/step - loss: 64.1630\nEpoch 21/50\n7/7 [==============================] - 0s 32ms/step - loss: 64.8846\nEpoch 22/50\n7/7 [==============================] - 0s 36ms/step - loss: 64.3865\nEpoch 23/50\n7/7 [==============================] - 0s 33ms/step - loss: 64.5638\nEpoch 24/50\n7/7 [==============================] - 0s 32ms/step - loss: 63.6598\nEpoch 25/50\n7/7 [==============================] - 0s 33ms/step - loss: 63.8494\nEpoch 26/50\n7/7 [==============================] - 0s 30ms/step - loss: 63.1040\nEpoch 27/50\n7/7 [==============================] - 0s 31ms/step - loss: 64.3568\nEpoch 28/50\n7/7 [==============================] - 0s 33ms/step - loss: 63.2846\nEpoch 29/50\n7/7 [==============================] - 0s 33ms/step - loss: 62.7857\nEpoch 30/50\n7/7 [==============================] - 0s 34ms/step - loss: 64.7773\nEpoch 31/50\n7/7 [==============================] - 0s 30ms/step - loss: 63.6608\nEpoch 32/50\n7/7 [==============================] - 0s 32ms/step - loss: 62.8647\nEpoch 33/50\n7/7 [==============================] - 0s 40ms/step - loss: 63.4323\nEpoch 34/50\n7/7 [==============================] - 0s 35ms/step - loss: 64.7016\nEpoch 35/50\n7/7 [==============================] - 0s 34ms/step - loss: 62.7517\nEpoch 36/50\n7/7 [==============================] - 0s 32ms/step - loss: 63.0929\nEpoch 37/50\n7/7 [==============================] - 0s 32ms/step - loss: 62.8623\nEpoch 38/50\n7/7 [==============================] - 0s 34ms/step - loss: 63.0802\nEpoch 39/50\n7/7 [==============================] - 0s 32ms/step - loss: 63.6517\nEpoch 40/50\n7/7 [==============================] - 0s 34ms/step - loss: 64.3495\nEpoch 41/50\n7/7 [==============================] - 0s 32ms/step - loss: 64.1313\nEpoch 42/50\n7/7 [==============================] - 0s 30ms/step - loss: 64.0618\nEpoch 43/50\n7/7 [==============================] - 0s 31ms/step - loss: 62.9440\nEpoch 44/50\n7/7 [==============================] - 0s 32ms/step - loss: 63.1940\nEpoch 45/50\n7/7 [==============================] - 0s 31ms/step - loss: 65.1791\nEpoch 46/50\n7/7 [==============================] - 0s 32ms/step - loss: 64.1040\nEpoch 47/50\n7/7 [==============================] - 0s 36ms/step - loss: 64.4220\nEpoch 48/50\n7/7 [==============================] - 0s 33ms/step - loss: 64.0507\nEpoch 49/50\n7/7 [==============================] - 0s 34ms/step - loss: 63.8907\nEpoch 50/50\n7/7 [==============================] - 0s 29ms/step - loss: 63.6953\n"
    }
   ],
   "source": [
    "autoencoder = AutoEncoder(input_dim=X.shape[1], encoding_dim=20)\n",
    "autoencoder.train(X)\n"
   ]
  },
  {
   "cell_type": "code",
   "execution_count": null,
   "metadata": {},
   "outputs": [],
   "source": [
    "arr = np.array([1, 0, -1, 1, 0])\n",
    "sum((arr==1) | (arr==-1))\n",
    "np.array(arr == 0) * np.array([1, 2, 3, 4, 5])"
   ]
  },
  {
   "cell_type": "code",
   "execution_count": 61,
   "metadata": {
    "tags": []
   },
   "outputs": [
    {
     "output_type": "execute_result",
     "data": {
      "text/plain": "array([[1582, 1218, 1796, ...,   20,   84,   26]])"
     },
     "metadata": {},
     "execution_count": 61
    }
   ],
   "source": [
    "np.argsort(autoencoder.autoencoder.predict(X[0:1]))[:100]"
   ]
  },
  {
   "cell_type": "code",
   "execution_count": 76,
   "metadata": {
    "tags": []
   },
   "outputs": [
    {
     "output_type": "stream",
     "name": "stdout",
     "text": "6\n"
    }
   ],
   "source": [
    "counter = 0\n",
    "for cdx in np.argsort(autoencoder.autoencoder.predict(X[1:2]))[:100][0]:\n",
    "    counter += int(rating_matrix_val[1, cdx] == 1)\n",
    "print(counter)"
   ]
  },
  {
   "cell_type": "code",
   "execution_count": 78,
   "metadata": {
    "tags": []
   },
   "outputs": [
    {
     "output_type": "stream",
     "name": "stdout",
     "text": "2\n"
    }
   ],
   "source": [
    "counter = 0\n",
    "for cdx, _ in model.recommend(1, rating_matrix_tr, 100, filter_already_liked_items=True):\n",
    "    counter += int(rating_matrix_val[1, cdx] == 1)\n",
    "print(counter)"
   ]
  },
  {
   "cell_type": "code",
   "execution_count": null,
   "metadata": {},
   "outputs": [],
   "source": []
  },
  {
   "cell_type": "code",
   "execution_count": 94,
   "metadata": {
    "tags": []
   },
   "outputs": [
    {
     "output_type": "stream",
     "name": "stderr",
     "text": "100%|██████████| 610/610 [00:08<00:00, 74.91it/s]\n"
    }
   ],
   "source": [
    "from itertools import combinations\n",
    "\n",
    "X = list()\n",
    "Y = list()\n",
    "for rdx in tqdm(range(rating_matrix_tr.shape[0])):\n",
    "    positives = list()\n",
    "    negatives = list()\n",
    "    for cdx in rating_matrix_tr[rdx, :].nonzero()[1]:\n",
    "        if rating_matrix_tr[rdx, cdx] == 1:\n",
    "            positives.append(cdx)\n",
    "        elif rating_matrix_tr[rdx, cdx] == -1:\n",
    "            negatives.append(cdx)\n",
    "    \n",
    "    for i, j in combinations(positives, 2):\n",
    "        X.append((i, j))\n",
    "        Y.extend([1])\n",
    "    \n",
    "    for items in combinations(negatives, 2):\n",
    "        X.append(items)\n",
    "        Y.extend([0])"
   ]
  },
  {
   "cell_type": "code",
   "execution_count": 95,
   "metadata": {},
   "outputs": [
    {
     "output_type": "execute_result",
     "data": {
      "text/plain": "[(2, 3),\n (2, 4),\n (2, 5),\n (2, 6),\n (2, 7),\n (2, 9),\n (2, 10),\n (2, 11),\n (2, 12),\n (2, 13),\n (2, 14),\n (2, 15),\n (2, 16),\n (2, 17),\n (2, 18),\n (2, 19),\n (2, 21),\n (2, 22),\n (2, 24),\n (2, 25),\n (2, 26),\n (2, 27),\n (2, 28),\n (2, 29),\n (2, 30),\n (2, 32),\n (2, 33),\n (2, 35),\n (2, 36),\n (2, 37),\n (2, 38),\n (2, 40),\n (2, 42),\n (2, 44),\n (2, 45),\n (2, 46),\n (2, 47),\n (2, 48),\n (2, 49),\n (2, 50),\n (2, 51),\n (2, 52),\n (2, 53),\n (2, 54),\n (2, 55),\n (2, 56),\n (2, 59),\n (2, 60),\n (2, 61),\n (2, 62),\n (2, 63),\n (2, 64),\n (2, 65),\n (2, 68),\n (2, 70),\n (2, 71),\n (2, 72),\n (2, 73),\n (2, 74),\n (2, 75),\n (2, 78),\n (2, 79),\n (2, 80),\n (2, 81),\n (2, 83),\n (2, 85),\n (2, 88),\n (2, 89),\n (2, 91),\n (2, 92),\n (2, 93),\n (2, 95),\n (2, 97),\n (2, 98),\n (2, 99),\n (2, 100),\n (2, 102),\n (2, 103),\n (2, 104),\n (2, 107),\n (2, 109),\n (2, 110),\n (2, 112),\n (2, 113),\n (2, 114),\n (2, 115),\n (2, 117),\n (2, 118),\n (2, 119),\n (2, 120),\n (2, 121),\n (2, 122),\n (2, 123),\n (2, 124),\n (2, 126),\n (2, 127),\n (2, 128),\n (2, 129),\n (2, 130),\n (2, 131),\n (2, 132),\n (2, 133),\n (2, 134),\n (2, 138),\n (2, 139),\n (2, 141),\n (2, 142),\n (2, 144),\n (2, 145),\n (2, 146),\n (2, 147),\n (2, 149),\n (2, 150),\n (2, 151),\n (2, 153),\n (2, 154),\n (2, 155),\n (2, 156),\n (2, 158),\n (2, 159),\n (2, 160),\n (2, 161),\n (2, 162),\n (2, 163),\n (2, 164),\n (2, 166),\n (2, 168),\n (2, 169),\n (2, 173),\n (2, 174),\n (2, 175),\n (2, 176),\n (2, 177),\n (2, 178),\n (2, 179),\n (2, 180),\n (2, 181),\n (2, 183),\n (2, 184),\n (2, 185),\n (2, 186),\n (2, 188),\n (2, 189),\n (2, 190),\n (2, 192),\n (2, 193),\n (2, 194),\n (2, 195),\n (2, 198),\n (2, 199),\n (2, 200),\n (2, 201),\n (2, 202),\n (2, 203),\n (2, 204),\n (2, 206),\n (2, 207),\n (2, 208),\n (2, 209),\n (2, 210),\n (2, 211),\n (2, 212),\n (2, 213),\n (2, 214),\n (2, 215),\n (2, 216),\n (2, 217),\n (2, 218),\n (2, 219),\n (2, 223),\n (2, 224),\n (2, 225),\n (2, 226),\n (2, 227),\n (2, 229),\n (2, 230),\n (2, 231),\n (3, 4),\n (3, 5),\n (3, 6),\n (3, 7),\n (3, 9),\n (3, 10),\n (3, 11),\n (3, 12),\n (3, 13),\n (3, 14),\n (3, 15),\n (3, 16),\n (3, 17),\n (3, 18),\n (3, 19),\n (3, 21),\n (3, 22),\n (3, 24),\n (3, 25),\n (3, 26),\n (3, 27),\n (3, 28),\n (3, 29),\n (3, 30),\n (3, 32),\n (3, 33),\n (3, 35),\n (3, 36),\n (3, 37),\n (3, 38),\n (3, 40),\n (3, 42),\n (3, 44),\n (3, 45),\n (3, 46),\n (3, 47),\n (3, 48),\n (3, 49),\n (3, 50),\n (3, 51),\n (3, 52),\n (3, 53),\n (3, 54),\n (3, 55),\n (3, 56),\n (3, 59),\n (3, 60),\n (3, 61),\n (3, 62),\n (3, 63),\n (3, 64),\n (3, 65),\n (3, 68),\n (3, 70),\n (3, 71),\n (3, 72),\n (3, 73),\n (3, 74),\n (3, 75),\n (3, 78),\n (3, 79),\n (3, 80),\n (3, 81),\n (3, 83),\n (3, 85),\n (3, 88),\n (3, 89),\n (3, 91),\n (3, 92),\n (3, 93),\n (3, 95),\n (3, 97),\n (3, 98),\n (3, 99),\n (3, 100),\n (3, 102),\n (3, 103),\n (3, 104),\n (3, 107),\n (3, 109),\n (3, 110),\n (3, 112),\n (3, 113),\n (3, 114),\n (3, 115),\n (3, 117),\n (3, 118),\n (3, 119),\n (3, 120),\n (3, 121),\n (3, 122),\n (3, 123),\n (3, 124),\n (3, 126),\n (3, 127),\n (3, 128),\n (3, 129),\n (3, 130),\n (3, 131),\n (3, 132),\n (3, 133),\n (3, 134),\n (3, 138),\n (3, 139),\n (3, 141),\n (3, 142),\n (3, 144),\n (3, 145),\n (3, 146),\n (3, 147),\n (3, 149),\n (3, 150),\n (3, 151),\n (3, 153),\n (3, 154),\n (3, 155),\n (3, 156),\n (3, 158),\n (3, 159),\n (3, 160),\n (3, 161),\n (3, 162),\n (3, 163),\n (3, 164),\n (3, 166),\n (3, 168),\n (3, 169),\n (3, 173),\n (3, 174),\n (3, 175),\n (3, 176),\n (3, 177),\n (3, 178),\n (3, 179),\n (3, 180),\n (3, 181),\n (3, 183),\n (3, 184),\n (3, 185),\n (3, 186),\n (3, 188),\n (3, 189),\n (3, 190),\n (3, 192),\n (3, 193),\n (3, 194),\n (3, 195),\n (3, 198),\n (3, 199),\n (3, 200),\n (3, 201),\n (3, 202),\n (3, 203),\n (3, 204),\n (3, 206),\n (3, 207),\n (3, 208),\n (3, 209),\n (3, 210),\n (3, 211),\n (3, 212),\n (3, 213),\n (3, 214),\n (3, 215),\n (3, 216),\n (3, 217),\n (3, 218),\n (3, 219),\n (3, 223),\n (3, 224),\n (3, 225),\n (3, 226),\n (3, 227),\n (3, 229),\n (3, 230),\n (3, 231),\n (4, 5),\n (4, 6),\n (4, 7),\n (4, 9),\n (4, 10),\n (4, 11),\n (4, 12),\n (4, 13),\n (4, 14),\n (4, 15),\n (4, 16),\n (4, 17),\n (4, 18),\n (4, 19),\n (4, 21),\n (4, 22),\n (4, 24),\n (4, 25),\n (4, 26),\n (4, 27),\n (4, 28),\n (4, 29),\n (4, 30),\n (4, 32),\n (4, 33),\n (4, 35),\n (4, 36),\n (4, 37),\n (4, 38),\n (4, 40),\n (4, 42),\n (4, 44),\n (4, 45),\n (4, 46),\n (4, 47),\n (4, 48),\n (4, 49),\n (4, 50),\n (4, 51),\n (4, 52),\n (4, 53),\n (4, 54),\n (4, 55),\n (4, 56),\n (4, 59),\n (4, 60),\n (4, 61),\n (4, 62),\n (4, 63),\n (4, 64),\n (4, 65),\n (4, 68),\n (4, 70),\n (4, 71),\n (4, 72),\n (4, 73),\n (4, 74),\n (4, 75),\n (4, 78),\n (4, 79),\n (4, 80),\n (4, 81),\n (4, 83),\n (4, 85),\n (4, 88),\n (4, 89),\n (4, 91),\n (4, 92),\n (4, 93),\n (4, 95),\n (4, 97),\n (4, 98),\n (4, 99),\n (4, 100),\n (4, 102),\n (4, 103),\n (4, 104),\n (4, 107),\n (4, 109),\n (4, 110),\n (4, 112),\n (4, 113),\n (4, 114),\n (4, 115),\n (4, 117),\n (4, 118),\n (4, 119),\n (4, 120),\n (4, 121),\n (4, 122),\n (4, 123),\n (4, 124),\n (4, 126),\n (4, 127),\n (4, 128),\n (4, 129),\n (4, 130),\n (4, 131),\n (4, 132),\n (4, 133),\n (4, 134),\n (4, 138),\n (4, 139),\n (4, 141),\n (4, 142),\n (4, 144),\n (4, 145),\n (4, 146),\n (4, 147),\n (4, 149),\n (4, 150),\n (4, 151),\n (4, 153),\n (4, 154),\n (4, 155),\n (4, 156),\n (4, 158),\n (4, 159),\n (4, 160),\n (4, 161),\n (4, 162),\n (4, 163),\n (4, 164),\n (4, 166),\n (4, 168),\n (4, 169),\n (4, 173),\n (4, 174),\n (4, 175),\n (4, 176),\n (4, 177),\n (4, 178),\n (4, 179),\n (4, 180),\n (4, 181),\n (4, 183),\n (4, 184),\n (4, 185),\n (4, 186),\n (4, 188),\n (4, 189),\n (4, 190),\n (4, 192),\n (4, 193),\n (4, 194),\n (4, 195),\n (4, 198),\n (4, 199),\n (4, 200),\n (4, 201),\n (4, 202),\n (4, 203),\n (4, 204),\n (4, 206),\n (4, 207),\n (4, 208),\n (4, 209),\n (4, 210),\n (4, 211),\n (4, 212),\n (4, 213),\n (4, 214),\n (4, 215),\n (4, 216),\n (4, 217),\n (4, 218),\n (4, 219),\n (4, 223),\n (4, 224),\n (4, 225),\n (4, 226),\n (4, 227),\n (4, 229),\n (4, 230),\n (4, 231),\n (5, 6),\n (5, 7),\n (5, 9),\n (5, 10),\n (5, 11),\n (5, 12),\n (5, 13),\n (5, 14),\n (5, 15),\n (5, 16),\n (5, 17),\n (5, 18),\n (5, 19),\n (5, 21),\n (5, 22),\n (5, 24),\n (5, 25),\n (5, 26),\n (5, 27),\n (5, 28),\n (5, 29),\n (5, 30),\n (5, 32),\n (5, 33),\n (5, 35),\n (5, 36),\n (5, 37),\n (5, 38),\n (5, 40),\n (5, 42),\n (5, 44),\n (5, 45),\n (5, 46),\n (5, 47),\n (5, 48),\n (5, 49),\n (5, 50),\n (5, 51),\n (5, 52),\n (5, 53),\n (5, 54),\n (5, 55),\n (5, 56),\n (5, 59),\n (5, 60),\n (5, 61),\n (5, 62),\n (5, 63),\n (5, 64),\n (5, 65),\n (5, 68),\n (5, 70),\n (5, 71),\n (5, 72),\n (5, 73),\n (5, 74),\n (5, 75),\n (5, 78),\n (5, 79),\n (5, 80),\n (5, 81),\n (5, 83),\n (5, 85),\n (5, 88),\n (5, 89),\n (5, 91),\n (5, 92),\n (5, 93),\n (5, 95),\n (5, 97),\n (5, 98),\n (5, 99),\n (5, 100),\n (5, 102),\n (5, 103),\n (5, 104),\n (5, 107),\n (5, 109),\n (5, 110),\n (5, 112),\n (5, 113),\n (5, 114),\n (5, 115),\n (5, 117),\n (5, 118),\n (5, 119),\n (5, 120),\n (5, 121),\n (5, 122),\n (5, 123),\n (5, 124),\n (5, 126),\n (5, 127),\n (5, 128),\n (5, 129),\n (5, 130),\n (5, 131),\n (5, 132),\n (5, 133),\n (5, 134),\n (5, 138),\n (5, 139),\n (5, 141),\n (5, 142),\n (5, 144),\n (5, 145),\n (5, 146),\n (5, 147),\n (5, 149),\n (5, 150),\n (5, 151),\n (5, 153),\n (5, 154),\n (5, 155),\n (5, 156),\n (5, 158),\n (5, 159),\n (5, 160),\n (5, 161),\n (5, 162),\n (5, 163),\n (5, 164),\n (5, 166),\n (5, 168),\n (5, 169),\n (5, 173),\n (5, 174),\n (5, 175),\n (5, 176),\n (5, 177),\n (5, 178),\n (5, 179),\n (5, 180),\n (5, 181),\n (5, 183),\n (5, 184),\n (5, 185),\n (5, 186),\n (5, 188),\n (5, 189),\n (5, 190),\n (5, 192),\n (5, 193),\n (5, 194),\n (5, 195),\n (5, 198),\n (5, 199),\n (5, 200),\n (5, 201),\n (5, 202),\n (5, 203),\n (5, 204),\n (5, 206),\n (5, 207),\n (5, 208),\n (5, 209),\n (5, 210),\n (5, 211),\n (5, 212),\n (5, 213),\n (5, 214),\n (5, 215),\n (5, 216),\n (5, 217),\n (5, 218),\n (5, 219),\n (5, 223),\n (5, 224),\n (5, 225),\n (5, 226),\n (5, 227),\n (5, 229),\n (5, 230),\n (5, 231),\n (6, 7),\n (6, 9),\n (6, 10),\n (6, 11),\n (6, 12),\n (6, 13),\n (6, 14),\n (6, 15),\n (6, 16),\n (6, 17),\n (6, 18),\n (6, 19),\n (6, 21),\n (6, 22),\n (6, 24),\n (6, 25),\n (6, 26),\n (6, 27),\n (6, 28),\n (6, 29),\n (6, 30),\n (6, 32),\n (6, 33),\n (6, 35),\n (6, 36),\n (6, 37),\n (6, 38),\n (6, 40),\n (6, 42),\n (6, 44),\n (6, 45),\n (6, 46),\n (6, 47),\n (6, 48),\n (6, 49),\n (6, 50),\n (6, 51),\n (6, 52),\n (6, 53),\n (6, 54),\n (6, 55),\n (6, 56),\n (6, 59),\n (6, 60),\n (6, 61),\n (6, 62),\n (6, 63),\n (6, 64),\n (6, 65),\n (6, 68),\n (6, 70),\n (6, 71),\n (6, 72),\n (6, 73),\n (6, 74),\n (6, 75),\n (6, 78),\n (6, 79),\n (6, 80),\n (6, 81),\n (6, 83),\n (6, 85),\n (6, 88),\n (6, 89),\n (6, 91),\n (6, 92),\n (6, 93),\n (6, 95),\n (6, 97),\n (6, 98),\n (6, 99),\n (6, 100),\n (6, 102),\n (6, 103),\n (6, 104),\n (6, 107),\n (6, 109),\n (6, 110),\n (6, 112),\n (6, 113),\n (6, 114),\n (6, 115),\n (6, 117),\n (6, 118),\n (6, 119),\n (6, 120),\n (6, 121),\n (6, 122),\n (6, 123),\n (6, 124),\n (6, 126),\n (6, 127),\n (6, 128),\n (6, 129),\n (6, 130),\n (6, 131),\n (6, 132),\n (6, 133),\n (6, 134),\n (6, 138),\n (6, 139),\n (6, 141),\n (6, 142),\n (6, 144),\n (6, 145),\n (6, 146),\n (6, 147),\n (6, 149),\n (6, 150),\n (6, 151),\n (6, 153),\n (6, 154),\n (6, 155),\n (6, 156),\n (6, 158),\n (6, 159),\n (6, 160),\n (6, 161),\n (6, 162),\n (6, 163),\n (6, 164),\n (6, 166),\n (6, 168),\n (6, 169),\n (6, 173),\n (6, 174),\n (6, 175),\n (6, 176),\n (6, 177),\n (6, 178),\n (6, 179),\n (6, 180),\n (6, 181),\n (6, 183),\n (6, 184),\n (6, 185),\n (6, 186),\n (6, 188),\n (6, 189),\n (6, 190),\n (6, 192),\n (6, 193),\n (6, 194),\n (6, 195),\n (6, 198),\n (6, 199),\n (6, 200),\n (6, 201),\n (6, 202),\n (6, 203),\n (6, 204),\n (6, 206),\n (6, 207),\n (6, 208),\n (6, 209),\n (6, 210),\n (6, 211),\n (6, 212),\n (6, 213),\n (6, 214),\n (6, 215),\n (6, 216),\n (6, 217),\n (6, 218),\n (6, 219),\n (6, 223),\n (6, 224),\n (6, 225),\n (6, 226),\n (6, 227),\n (6, 229),\n (6, 230),\n (6, 231),\n (7, 9),\n (7, 10),\n (7, 11),\n (7, 12),\n (7, 13),\n (7, 14),\n (7, 15),\n (7, 16),\n (7, 17),\n (7, 18),\n (7, 19),\n (7, 21),\n (7, 22),\n (7, 24),\n (7, 25),\n (7, 26),\n (7, 27),\n (7, 28),\n (7, 29),\n (7, 30),\n (7, 32),\n (7, 33),\n (7, 35),\n (7, 36),\n (7, 37),\n (7, 38),\n (7, 40),\n (7, 42),\n (7, 44),\n (7, 45),\n (7, 46),\n (7, 47),\n (7, 48),\n (7, 49),\n (7, 50),\n (7, 51),\n (7, 52),\n (7, 53),\n (7, 54),\n (7, 55),\n (7, 56),\n (7, 59),\n (7, 60),\n (7, 61),\n (7, 62),\n (7, 63),\n (7, 64),\n (7, 65),\n (7, 68),\n (7, 70),\n (7, 71),\n (7, 72),\n (7, 73),\n (7, 74),\n (7, 75),\n (7, 78),\n (7, 79),\n (7, 80),\n (7, 81),\n (7, 83),\n (7, 85),\n (7, 88),\n (7, 89),\n (7, 91),\n (7, 92),\n (7, 93),\n (7, 95),\n (7, 97),\n (7, 98),\n (7, 99),\n (7, 100),\n (7, 102),\n (7, 103),\n (7, 104),\n (7, 107),\n (7, 109),\n (7, 110),\n (7, 112),\n (7, 113),\n (7, 114),\n (7, 115),\n (7, 117),\n (7, 118),\n (7, 119),\n (7, 120),\n (7, 121),\n (7, 122),\n (7, 123),\n (7, 124),\n (7, 126),\n (7, 127),\n (7, 128),\n (7, 129),\n (7, 130),\n (7, 131),\n (7, 132),\n (7, 133),\n (7, 134),\n (7, 138),\n (7, 139),\n (7, 141),\n (7, 142),\n (7, 144),\n (7, 145),\n (7, 146),\n (7, 147),\n (7, 149),\n (7, 150),\n (7, 151),\n (7, 153),\n (7, 154),\n (7, 155),\n (7, 156),\n (7, 158),\n (7, 159),\n (7, 160),\n (7, 161),\n (7, 162),\n (7, 163),\n (7, 164),\n (7, 166),\n (7, 168),\n (7, 169),\n (7, 173),\n (7, 174),\n ...]"
     },
     "metadata": {},
     "execution_count": 95
    }
   ],
   "source": [
    "len(X)"
   ]
  },
  {
   "cell_type": "code",
   "execution_count": null,
   "metadata": {},
   "outputs": [],
   "source": [
    "len(Y)"
   ]
  },
  {
   "cell_type": "code",
   "execution_count": null,
   "metadata": {},
   "outputs": [],
   "source": []
  }
 ]
}